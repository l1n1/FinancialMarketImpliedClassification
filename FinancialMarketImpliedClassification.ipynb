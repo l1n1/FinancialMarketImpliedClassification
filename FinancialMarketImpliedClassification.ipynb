{
 "cells": [
  {
   "cell_type": "code",
   "execution_count": 1,
   "metadata": {
    "collapsed": false,
    "deletable": true,
    "editable": true
   },
   "outputs": [],
   "source": [
    "import glob\n",
    "import os\n",
    "import re\n",
    "import copy\n",
    "\n",
    "import numpy as np\n",
    "import pandas as pd\n",
    "\n",
    "from sklearn.cluster import KMeans\n",
    "import statsmodels.api as sm\n",
    "import statsmodels.formula.api as smf\n",
    "from statsmodels.tsa.stattools import adfuller\n",
    "from scipy.stats import entropy, ttest_rel\n",
    "\n",
    "from seaborn import heatmap\n",
    "import matplotlib.pyplot as plt\n",
    "import matplotlib.image as mpimg\n",
    "import matplotlib.cm as cm\n",
    "%matplotlib inline\n",
    "\n",
    "import tia.bbg.v3api as v3api\n",
    "Terminal = v3api.Terminal(host = 'localhost', port = 8194)"
   ]
  },
  {
   "cell_type": "markdown",
   "metadata": {
    "deletable": true,
    "editable": true
   },
   "source": [
    "#### Set working directory"
   ]
  },
  {
   "cell_type": "code",
   "execution_count": 2,
   "metadata": {
    "collapsed": false,
    "deletable": true,
    "editable": true
   },
   "outputs": [
    {
     "name": "stdout",
     "output_type": "stream",
     "text": [
      "C:\\Users\\LaszloN\\PhD\\Research\\GICS\\out\\clustering_Corr\n"
     ]
    }
   ],
   "source": [
    "output_dir = os.getcwd() + \"\\\\out\\\\clustering_Corr\"\n",
    "if not os.path.exists(output_dir):\n",
    "    os.makedirs(output_dir)\n",
    "os.chdir(output_dir)\n",
    "print os.getcwd()"
   ]
  },
  {
   "cell_type": "markdown",
   "metadata": {
    "deletable": true,
    "editable": true
   },
   "source": [
    "#### Set the flag has_Bloomberg to false if you are not logged in the terminal"
   ]
  },
  {
   "cell_type": "code",
   "execution_count": 3,
   "metadata": {
    "collapsed": false,
    "deletable": true,
    "editable": true
   },
   "outputs": [],
   "source": [
    "has_Bloomberg = False"
   ]
  },
  {
   "cell_type": "markdown",
   "metadata": {
    "deletable": true,
    "editable": true
   },
   "source": [
    "# Normalized modularity clustering"
   ]
  },
  {
   "cell_type": "markdown",
   "metadata": {
    "deletable": true,
    "editable": true
   },
   "source": [
    "We can represent a network of companies with graph G(V,W), where V denotes the set of stocks and W contains the connection information (correaltion, entropy, Gaussian based edge weights).\n",
    "#### Normalized modularity\n",
    "We think of the similarity matrix (W) as a noisy matrix. Our initention is to filter out the noise and maximize the intra-cluster information which leads to the definition of modularity matrix;\n",
    "$$M=W-dd^T$$\n",
    "where d represents the vector of row-sums. Normalizing the matrix gives as the normalized modularity matrix which helps us to cluster tightly connected networks.\n",
    "$$ M_D = D^{-1/2} (W-dd^T) D^{-1/2} $$"
   ]
  },
  {
   "cell_type": "code",
   "execution_count": 4,
   "metadata": {
    "collapsed": false,
    "deletable": true,
    "editable": true
   },
   "outputs": [],
   "source": [
    "def normalized_modularity(W):\n",
    "    W = W/W.sum().sum()\n",
    "    d = np.array(W.sum(1))\n",
    "    M = np.array(W) - np.outer(d,d)\n",
    "    NM = pd.DataFrame(np.matmul(np.diag(1/np.sqrt(d)), np.matmul(M, np.diag(1/np.sqrt(d)))))\n",
    "    NM.index = W.index\n",
    "    return d, M, NM"
   ]
  },
  {
   "cell_type": "markdown",
   "metadata": {
    "deletable": true,
    "editable": true
   },
   "source": [
    "#### Representation\n",
    "The optimal representation of the original vertices are normalized rows of that matrix which contains its columns the eigenvectors of in absolute sense largest eigenvalues of the normalized modularity matrix (Bolla 2013.); $(D^{-1/2} u_1,…,D^{-1/2} u_k )$ where $u_1,…,u_k$ are the corresponding eigenvectors of $|λ_1 (M_D )|≥⋯≥|λ_k (M_D )|≫|λ_{k+1} (M_D )|$."
   ]
  },
  {
   "cell_type": "code",
   "execution_count": 5,
   "metadata": {
    "collapsed": true,
    "deletable": true,
    "editable": true
   },
   "outputs": [],
   "source": [
    "def calculate_normalized_modularity_representation(d, NM, k):\n",
    "    [e,v] = np.linalg.eig(np.array(NM))\n",
    "    v = np.transpose(v)\n",
    "    sorted_index_position = [index for index, num in sorted(enumerate(e), key = lambda x: x[-1])]\n",
    "    rep = pd.DataFrame(np.matmul(np.diag(1/np.sqrt(d)), np.transpose(v[sorted_index_position[-k:]])))\n",
    "    rep.index = NM.index\n",
    "    return d, NM, rep, e, v"
   ]
  },
  {
   "cell_type": "markdown",
   "metadata": {
    "deletable": true,
    "editable": true
   },
   "source": [
    "### K-means clustering\n",
    "For predifined number of clusters, the algorithm alternates between two steps to minimizes the within-cluster variance.\n",
    "\n",
    "* **Assignment step:** Assign each observation to the cluster with the nearest mean (usually $L^2$ distance)\n",
    "* **Update step:** Recalculate means for observations assigned to each cluster."
   ]
  },
  {
   "cell_type": "code",
   "execution_count": 6,
   "metadata": {
    "collapsed": true,
    "deletable": true,
    "editable": true
   },
   "outputs": [],
   "source": [
    "def kMeans_clustering(rep, k ,seed, init_centers):\n",
    "    if len(init_centers) == k:\n",
    "        cluster_engine = KMeans(n_clusters = k, random_state = seed, init = init_centers).fit(rep)\n",
    "    else:\n",
    "        cluster_engine = KMeans(n_clusters = k, random_state = seed).fit(rep)\n",
    "    cl = pd.DataFrame([\"Cluster \" + str(cl) for cl in cluster_engine.predict(rep)])\n",
    "    cl.index = rep.index\n",
    "    cl.columns = [\"Cluster\"]\n",
    "    return cl, cluster_engine.cluster_centers_"
   ]
  },
  {
   "cell_type": "markdown",
   "metadata": {
    "deletable": true,
    "editable": true
   },
   "source": [
    "## Cluster utils"
   ]
  },
  {
   "cell_type": "markdown",
   "metadata": {
    "deletable": true,
    "editable": true
   },
   "source": [
    "In order to compare different clustering results, we have to map cluster labels. One possible approach would be based on the minimal matching distance.\n",
    "$$ d_{MinMatch}(C, \\hat{C}) = \\min_{\\pi} \\sum_{i = 1}^n 1(C(i) \\neq \\pi(\\hat{C}(i)) $$\n",
    "where $C, \\hat{C}$ denote the labels of the clusters, $\\pi$ is an arbitrary permutation of the labels and $1$ represents the indicator function.\n",
    "\n",
    "Note that calculting the minimal matching distance is computationally very intense. Thus, we propose the following naive greedy algorithm.\n",
    "* Calculate the contingency table $(CT)$ of $C$ and $\\hat{C}$\n",
    "* Find the maximum element of the matrix $(CT_{i,j})$ \n",
    "* Map the label of $i$-th row to the label of $j$-th column\n",
    "* Delete row $i$ and column $j$ of the coningency table\n",
    "* Iterate until you map all the labels"
   ]
  },
  {
   "cell_type": "code",
   "execution_count": 7,
   "metadata": {
    "collapsed": false,
    "deletable": true,
    "editable": true
   },
   "outputs": [],
   "source": [
    "def greedy_match(df):\n",
    "    g_Match = []\n",
    "    while np.prod(df.apply(lambda s: pd.to_numeric(s, errors='coerce').isnull().all())) == 0:\n",
    "        match = np.where(df == np.max(np.max(df)))\n",
    "        df.loc[df.index[match[0][0]]] = np.NaN\n",
    "        df[df.columns[match[1][0]]] = np.NaN\n",
    "        g_Match.append([df.index[match[0][0]], df.columns[match[1][0]]])\n",
    "    return g_Match\n",
    "\n",
    "def greedy_match_classification(classification, crossT, classification_name = \"Cluster\"):\n",
    "    for k in crossT.keys():\n",
    "        g_Match = greedy_match(crossT[k].copy(True))\n",
    "        classification[\"Match_\"+k] = classification[[k, classification_name]]\\\n",
    "        .apply(lambda x: [x[k], x[classification_name]] in g_Match, axis=1)\n",
    "    return classification\n",
    "\n",
    "def reshuffle_cluster_labels(cluster_data, base_key):\n",
    "    for i, k in enumerate(cluster_data.keys()):\n",
    "        if k != base_key:\n",
    "            crossT = pd.crosstab(cluster_data[base_key]['Cluster'], cluster_data[k]['Cluster'])\n",
    "            mapping = zip(*greedy_match(crossT/crossT.sum(axis = 0)))\n",
    "            cluster_data[k]['Cluster'] = cluster_data[k]['Cluster']\\\n",
    "            .apply(lambda x: mapping[0][mapping[1].index(x)] if x in mapping[1] else \"Cluster_NO_MAP_\" + x )\n",
    "    return cluster_data"
   ]
  },
  {
   "cell_type": "markdown",
   "metadata": {
    "deletable": true,
    "editable": true
   },
   "source": [
    "## Load BB data"
   ]
  },
  {
   "cell_type": "markdown",
   "metadata": {
    "deletable": true,
    "editable": true
   },
   "source": [
    "Prepare raw data for clustering.\n",
    "\n",
    "load_index_tickers_and_GICS_BICS\n",
    "* Load the list of index constituents\n",
    "* Load daily adjusted closing prices\n",
    "* Load GICS, BICS classification\n",
    "\n",
    "load_history\n",
    "* Load daily adjusted closing prices"
   ]
  },
  {
   "cell_type": "code",
   "execution_count": 8,
   "metadata": {
    "collapsed": false,
    "deletable": true,
    "editable": true
   },
   "outputs": [],
   "source": [
    "def load_index_tickers_and_GICS_BICS(index = \"SPX Index\",  start = \"2017-01-01\", end = \"2018-12-31\"):\n",
    "    tickers = [ticker + \" Equity\" for ticker in list(\\\n",
    "                    Terminal.get_reference_data(index, \"INDX_MWEIGHT_HIST\",\\\n",
    "                    END_DATE_OVERRIDE = end.replace(\"-\", \"\")).as_map()[index]['INDX_MWEIGHT_HIST'].drop(['Percent Weight'],\\\n",
    "                    axis = 1)[\"Index Member\"])\\\n",
    "              ]\n",
    "    S = Terminal.get_historical(sids = tickers, flds = [\"PX_LAST\"], start = start, end = end).as_frame()\n",
    "    classification = Terminal.get_reference_data(tickers, [\"ID_ISIN\",\"GICS_SECTOR_NAME\",\"BICS_LEVEL_1_SECTOR_NAME\"]).as_frame()\n",
    "    return tickers, S, classification\n",
    "\n",
    "def load_history(start, end, sids = [\"SPX Index\"], flds = [\"PX_LAST\"]):\n",
    "    data = Terminal.get_historical(sids = sids, flds = flds, start = start, end = end).as_frame()\n",
    "    data.columns = data.columns.droplevel(1)\n",
    "    data.index = list(data.index)\n",
    "    return data"
   ]
  },
  {
   "cell_type": "markdown",
   "metadata": {
    "deletable": true,
    "editable": true
   },
   "source": [
    "## Data utils"
   ]
  },
  {
   "cell_type": "markdown",
   "metadata": {
    "deletable": true,
    "editable": true
   },
   "source": [
    "Utility functions to sort, clean, merge, centralize and read data from Bloomberg and csv."
   ]
  },
  {
   "cell_type": "code",
   "execution_count": 9,
   "metadata": {
    "collapsed": true,
    "deletable": true,
    "editable": true
   },
   "outputs": [],
   "source": [
    "def sort_alphabetically_by_column(df, cln):\n",
    "    if type(cln) == pd.core.series.Series:\n",
    "        df.columns = [str(cln.loc[x.split(\"_\")[-1]]) + \"_\" + x.split(\"_\")[-1] for x in df.columns ]\n",
    "        df.index = df.columns\n",
    "        df = df.sort_index(axis = 0)\n",
    "        df = df.sort_index(axis = 1)\n",
    "    return df\n",
    "\n",
    "def centralize_data(df):\n",
    "    return (df - df.mean())/df.std()\n",
    "\n",
    "def clean_data(S, classification):\n",
    "    S.columns = S.columns.get_level_values(0)\n",
    "    S.dropna(axis = 1, thresh = 30, inplace= True)\n",
    "    tickers = S.columns\n",
    "    if len(classification) != len(tickers):\n",
    "        dropped_names = classification[~classification.index.isin(tickers)]\n",
    "        classification = classification[classification.index.isin(tickers)]\n",
    "    return tickers, S, classification\n",
    "\n",
    "def merege_classifications_and_clusters(classification, cl):\n",
    "    cl.index = [str(x).split(\"_\")[-1] for x in cl.index]\n",
    "    if cl.columns[0] not in classification:\n",
    "        classification = pd.merge(classification, cl, left_index = True, right_index = True)\n",
    "    return classification\n",
    "\n",
    "def prepare_Bloomberg_data(index = \"SPX Index\",  start = \"2018-01-01\", end = \"2019-06-01\"):\n",
    "    tickers, S, classification = load_index_tickers_and_GICS_BICS(index, start, end)\n",
    "    tickers, S, classification = clean_data(S, classification)\n",
    "    rS = (S-S.shift(1))/S.shift(1)\n",
    "    return tickers, S, rS, classification\n",
    "\n",
    "def set_similarity(df, name):\n",
    "    df = pd.DataFrame(df)\n",
    "    df._name = name\n",
    "    return df\n",
    "\n",
    "def read_data(path):\n",
    "    data = pd.read_csv(path, encoding = 'utf-8', sep = ',')\n",
    "    if \"Unnamed: 0\" in data.columns:\n",
    "        data.index = list(data[\"Unnamed: 0\"])\n",
    "        del data[\"Unnamed: 0\"]\n",
    "    data.columns = [x.strip() for x in data.columns]\n",
    "    return data"
   ]
  },
  {
   "cell_type": "markdown",
   "metadata": {
    "deletable": true,
    "editable": true
   },
   "source": [
    "## Plot utils"
   ]
  },
  {
   "cell_type": "markdown",
   "metadata": {
    "deletable": true,
    "editable": true
   },
   "source": [
    "Calculate, plot and save cross tables of target and base clustering."
   ]
  },
  {
   "cell_type": "code",
   "execution_count": 10,
   "metadata": {
    "collapsed": false,
    "deletable": true,
    "editable": true
   },
   "outputs": [],
   "source": [
    " def plot_heatmaps_of_cross_tabs(W, classification, base_cluster, path = \"\"):\n",
    "    cross_tabs = {}\n",
    "    fig, axs = plt.subplots(2*len(classification.columns)-1, 1, figsize = (7,40))\n",
    "    for i, x in enumerate(classification.columns):\n",
    "        heatmap(sort_alphabetically_by_column(\\\n",
    "            W, classification[x]), ax = axs[i], xticklabels = len(W)/10, yticklabels = len(W)/10)\n",
    "        if classification.columns[i] != base_cluster:\n",
    "            cross_tabs[x] = pd.crosstab(classification[classification.columns[i]], classification[base_cluster])\n",
    "            cross_tabs[x].name = x + \"_\" + base_cluster\n",
    "            h = heatmap(cross_tabs[x], ax = axs[len(classification.columns)+i])\n",
    "            h.set_xticklabels(h.get_xticklabels(), rotation=90)\n",
    "        axs[i].set_title(x)\n",
    "    plt.subplots_adjust(hspace = .5)\n",
    "    fig.savefig(path + \"Heatmaps_\"+ classification.columns[i] + base_cluster + \"_\" + W._name + \".png\", bbox_inches='tight')\n",
    "    return cross_tabs"
   ]
  },
  {
   "cell_type": "markdown",
   "metadata": {
    "deletable": true,
    "editable": true
   },
   "source": [
    "## Load data and calculate similarities"
   ]
  },
  {
   "cell_type": "markdown",
   "metadata": {
    "deletable": true,
    "editable": true
   },
   "source": [
    "We propose the below correlation $(R)$ based similarity matrix $(W)$:\n",
    "$$W = \\frac{1+R}{2}$$"
   ]
  },
  {
   "cell_type": "code",
   "execution_count": 11,
   "metadata": {
    "collapsed": false,
    "deletable": true,
    "editable": true
   },
   "outputs": [],
   "source": [
    "def data_and_similarities(index, start, end):\n",
    "    print \"Prepare data\"\n",
    "    tickers, S, rS, classification = prepare_Bloomberg_data(index, start, end)\n",
    "    period = \"_\".join([str(x)[:10].replace(\"-\",\"\") for x in rS.index[[0,-1]]])\n",
    "    print \"Calculate similarities\"\n",
    "    R = set_similarity(rS.corr(), \"R_\" + period)\n",
    "    W = (R+1)/2.\n",
    "    W._name = R._name\n",
    "    return tickers, S, rS, classification, W, period"
   ]
  },
  {
   "cell_type": "markdown",
   "metadata": {
    "deletable": true,
    "editable": true
   },
   "source": [
    "## Run clustering"
   ]
  },
  {
   "cell_type": "markdown",
   "metadata": {
    "deletable": true,
    "editable": true
   },
   "source": [
    "Load raw data from Bloomberg and run spectral clustering."
   ]
  },
  {
   "cell_type": "code",
   "execution_count": 12,
   "metadata": {
    "collapsed": true,
    "deletable": true,
    "editable": true
   },
   "outputs": [],
   "source": [
    "def normalized_clusters(W, k, seed, init_centers):\n",
    "    d, M, NM = normalized_modularity(W)\n",
    "    d, NM, rep, e, v = calculate_normalized_modularity_representation(d, NM, k)\n",
    "    cl, centers = kMeans_clustering(rep, k, seed, init_centers)\n",
    "    return d, NM, rep, e, v , cl, centers\n",
    "\n",
    "def compare_normalized_clusters_and_classification(W, k, seed, classification, init_centers):\n",
    "    d, NM, rep, e, v , cl, centers = normalized_clusters(W, k, seed, init_centers)\n",
    "    classification = merege_classifications_and_clusters(classification, cl)\n",
    "    return d, NM, rep, e, v , cl, centers, classification\n",
    "\n",
    "def cluster_and_classify(rS, W, classification, k, period, centers = [], seed = 0, path = \"\"):\n",
    "    print \"Calculate cluster\"\n",
    "    d, NM, rep, e, v , cl, centers, classification_and_clusters = \\\n",
    "        compare_normalized_clusters_and_classification(W, k, seed, classification.copy(True), centers)\n",
    "    classification_and_clusters.to_csv(path + \"Clusters_\" + str(W._name) + \".csv\")\n",
    "    return d, NM, rep, e, v , cl, centers, classification_and_clusters\n",
    "\n",
    "def plot_and_save_results(W, classification_and_clusters, period, path = \"\"):\n",
    "    print \"Plot results\"\n",
    "    crossT = plot_heatmaps_of_cross_tabs(W, classification_and_clusters.drop(['ID_ISIN'], axis = 1), \"Cluster\", path)\n",
    "    print \"Match results\"\n",
    "    matched_classification = greedy_match_classification(classification_and_clusters.copy(True), crossT)\n",
    "    print \"Save crosstabs\"\n",
    "    for cTab in crossT.keys():\n",
    "        crossT[cTab].to_csv(path + crossT[cTab].name+ \"_\" + W._name  + \".csv\")\n",
    "    return crossT, matched_classification\n",
    "\n",
    "def run_clustering(rS, W, classification, k, period, centers = [], seed = 0, path = \"\"):\n",
    "    d, NM, rep, e, v , cl, centers, classification_and_clusters =\\\n",
    "                cluster_and_classify(rS, W, classification, k, period, centers, seed, path)\n",
    "    crossT, matched_classification = plot_and_save_results(W, classification_and_clusters, period, path)\n",
    "    return rS, classification, W, period, d, NM, rep, e, v , cl, centers,\\\n",
    "                classification_and_clusters, crossT, matched_classification\n",
    "\n",
    "def load_data_and_run_clustering(index, start, end, centers, k, seed, path = \"\"):\n",
    "    tickers, S, rS, classification, W, period = data_and_similarities(index, start, end)\n",
    "    rS, classification, W, period, d, NM, rep, e, v , cl, centers, classification_and_clusters, crossT, matched_classification =\\\n",
    "    run_clustering(rS, W, classification, k, period, centers, seed, path)\n",
    "    return tickers, S, rS, classification, W, period, d, NM, rep, e, v, cl, centers,\\\n",
    "                classification_and_clusters, crossT, matched_classification"
   ]
  },
  {
   "cell_type": "markdown",
   "metadata": {
    "deletable": true,
    "editable": true
   },
   "source": [
    "## CAPM beta and entropy"
   ]
  },
  {
   "cell_type": "markdown",
   "metadata": {
    "deletable": true,
    "editable": true
   },
   "source": [
    "Calculating entropy and CAPM beta with robust standard errors method (White)."
   ]
  },
  {
   "cell_type": "code",
   "execution_count": 13,
   "metadata": {
    "collapsed": false,
    "deletable": true,
    "editable": true
   },
   "outputs": [],
   "source": [
    "def calculate_beta_entropy(rS, benchmark):\n",
    "    betas = {}\n",
    "    entropies = {}\n",
    "    nBenchmark = benchmark.columns[0]\n",
    "    rSB = rS.merge(benchmark,  left_index=True, right_index=True)\n",
    "    for i, s in enumerate(rS.columns):\n",
    "        if 'Equity' in s:\n",
    "            r = rSB[[nBenchmark,s]].dropna()\n",
    "            X = r[nBenchmark].values\n",
    "            X = sm.add_constant(X)\n",
    "            y = r[s].values\n",
    "            fmodel = sm.OLS(y, X).fit(cov_type='HC0')\n",
    "            betas[s] = fmodel.params[1]\n",
    "            entropies[s] = entropy(np.histogram(y, density=True)[0])\n",
    "    risk = pd.DataFrame([betas,entropies]).transpose()\n",
    "    risk.columns = ['beta', 'entropy']\n",
    "    return risk"
   ]
  },
  {
   "cell_type": "markdown",
   "metadata": {
    "deletable": true,
    "editable": true
   },
   "source": [
    "<br>\n",
    "<br>\n",
    "<br>\n",
    "# Clustering SPX data and comparing with GICS, BICS\n",
    "<br>"
   ]
  },
  {
   "cell_type": "markdown",
   "metadata": {
    "deletable": true,
    "editable": true
   },
   "source": [
    "## Inputs"
   ]
  },
  {
   "cell_type": "code",
   "execution_count": 14,
   "metadata": {
    "collapsed": true,
    "deletable": true,
    "editable": true
   },
   "outputs": [],
   "source": [
    "index = \"SPX Index\"\n",
    "start = 2000\n",
    "end = 2020\n",
    "s_start = \"{}-01-01\"\n",
    "s_end = \"{}-12-31\"\n",
    "k = 11"
   ]
  },
  {
   "cell_type": "markdown",
   "metadata": {
    "deletable": true,
    "editable": true
   },
   "source": [
    "## Robustness of first year clustering (BB needed)"
   ]
  },
  {
   "cell_type": "markdown",
   "metadata": {
    "deletable": true,
    "editable": true
   },
   "source": [
    "Load data from Bloomberg, run clustering with 50 different seeds and calculate contingency tables of seed 0 and other seeds. In case you are not logged in a terminal, read cross tables from csv."
   ]
  },
  {
   "cell_type": "code",
   "execution_count": 15,
   "metadata": {
    "collapsed": false,
    "deletable": true,
    "editable": true
   },
   "outputs": [
    {
     "name": "stdout",
     "output_type": "stream",
     "text": [
      "Load cross tabs from csv\n"
     ]
    }
   ],
   "source": [
    "cross_tabs = []\n",
    "if has_Bloomberg:\n",
    "    print \"Load data from Bloomberg and run clustering\"\n",
    "    for seed in range(2):\n",
    "        if seed == 0:\n",
    "            tickers, S, rS, base_classification, W, period, d, NM, rep, e, v , cl, centers,\\\n",
    "            base_classification_and_clusters, crossT, base_matched_classification = \\\n",
    "            load_data_and_run_clustering(index, s_start.format(start), s_end.format(start+1), [], k,\\\n",
    "                                         seed, \"robustness\\seed{}\".format(seed))\n",
    "            base_classification_and_clusters.columns  = ['base' + s for s in base_classification_and_clusters.columns]\n",
    "        else:\n",
    "            d, NM, rep, e, v , cl, centers, classification_and_clusters = cluster_and_classify(rS, W, base_classification,\\\n",
    "                                                                                        k, period, seed = seed, path= \"\")\n",
    "            cross_tab = pd.crosstab(classification_and_clusters['Cluster'], base_classification_and_clusters['baseCluster'])\n",
    "            g_match = dict(greedy_match(cross_tab))\n",
    "            classification_and_clusters['Cluster'] = classification_and_clusters['Cluster'].apply(lambda x: g_match[x])\n",
    "            cross_tab = pd.crosstab(classification_and_clusters['Cluster'], base_classification_and_clusters['baseCluster'])\n",
    "            cross_tab.to_csv(\"Robustness\\crosstab_Seed0_seed{}\".format(seed)+\".csv\")   \n",
    "            cross_tabs.append(copy.deepcopy(cross_tab))\n",
    "        pd.DataFrame(centers).to_csv(\"Robustness\\centers_seed{}\".format(seed)+\".csv\")\n",
    "else:\n",
    "    print \"Load cross tabs from csv\"\n",
    "    for seed in range(1, 50):\n",
    "        cross_tab = read_data(\"Robustness\\crosstab_seed0_seed{}\".format(seed)+\".csv\")\n",
    "        cross_tab = cross_tab.set_index('Cluster')\n",
    "        del cross_tab.index.name\n",
    "        cross_tabs.append(cross_tab)"
   ]
  },
  {
   "cell_type": "markdown",
   "metadata": {
    "deletable": true,
    "editable": true
   },
   "source": [
    "Calculate overlaps and plot histograms"
   ]
  },
  {
   "cell_type": "code",
   "execution_count": 17,
   "metadata": {
    "collapsed": false,
    "deletable": true,
    "editable": true
   },
   "outputs": [
    {
     "data": {
      "text/plain": [
       "0.2495049504950495"
      ]
     },
     "execution_count": 17,
     "metadata": {},
     "output_type": "execute_result"
    },
    {
     "data": {
      "image/png": "[encoded data removed]",
      "text/plain": [
       "<matplotlib.figure.Figure at 0x1f114f98>"
      ]
     },
     "metadata": {},
     "output_type": "display_data"
    }
   ],
   "source": [
    "overlap = [np.trace(ct) for ct in cross_tabs]\n",
    "fig, ax = plt.subplots(1, 1, figsize = (20, 8))\n",
    "plt.hist(overlap, bins=10, alpha=0.5)\n",
    "plt.suptitle('Histogram of greedy ovelaping', fontsize=32)\n",
    "ax.set_facecolor('white')\n",
    "plt.tick_params(axis='both', which='major', labelsize=22)\n",
    "fig.savefig('OverlapHist')\n",
    "1-min(overlap)/505."
   ]
  },
  {
   "cell_type": "markdown",
   "metadata": {
    "deletable": true,
    "editable": true
   },
   "source": [
    "## Calculate clusters (BB needed)"
   ]
  },
  {
   "cell_type": "code",
   "execution_count": 18,
   "metadata": {
    "collapsed": false,
    "deletable": true,
    "editable": true
   },
   "outputs": [],
   "source": [
    "if has_Bloomberg:\n",
    "    print \"Load yearly data from Bloomberg\"\n",
    "    centers = []\n",
    "    rS_stat = {}\n",
    "    for year in range(start,end):\n",
    "        tickers, S, rS, classification, W, period, d, NM, rep, e, v , cl, centers, classification_and_clusters,\\\n",
    "        crossT, matched_classification = load_data_and_run_clustering(index, s_start.format(year), s_end.format(year),\\\n",
    "                                                                      centers, k, 0, path = \"\")\n",
    "        rSstat[s_start.format(t) + \"_\" + s_end.format(t)] = rS"
   ]
  },
  {
   "cell_type": "markdown",
   "metadata": {
    "deletable": true,
    "editable": true
   },
   "source": [
    "### Calculate and save descriptives"
   ]
  },
  {
   "cell_type": "code",
   "execution_count": 19,
   "metadata": {
    "collapsed": false,
    "deletable": true,
    "editable": true
   },
   "outputs": [
    {
     "name": "stdout",
     "output_type": "stream",
     "text": [
      "Load descriptives from csv\n"
     ]
    },
    {
     "data": {
      "text/html": [
       "<div>\n",
       "<style scoped>\n",
       "    .dataframe tbody tr th:only-of-type {\n",
       "        vertical-align: middle;\n",
       "    }\n",
       "\n",
       "    .dataframe tbody tr th {\n",
       "        vertical-align: top;\n",
       "    }\n",
       "\n",
       "    .dataframe thead th {\n",
       "        text-align: right;\n",
       "    }\n",
       "</style>\n",
       "<table border=\"1\" class=\"dataframe\">\n",
       "  <thead>\n",
       "    <tr style=\"text-align: right;\">\n",
       "      <th></th>\n",
       "      <th>count</th>\n",
       "      <th>mean</th>\n",
       "      <th>std</th>\n",
       "      <th>min</th>\n",
       "      <th>25%</th>\n",
       "      <th>50%</th>\n",
       "      <th>75%</th>\n",
       "      <th>max</th>\n",
       "      <th>beta</th>\n",
       "      <th>entropy</th>\n",
       "    </tr>\n",
       "  </thead>\n",
       "  <tbody>\n",
       "    <tr>\n",
       "      <th>USB UN Equity</th>\n",
       "      <td>251.0</td>\n",
       "      <td>0.001007</td>\n",
       "      <td>0.032453</td>\n",
       "      <td>-0.101124</td>\n",
       "      <td>-0.019103</td>\n",
       "      <td>-0.002635</td>\n",
       "      <td>0.018698</td>\n",
       "      <td>0.147799</td>\n",
       "      <td>1.073926</td>\n",
       "      <td>1.652048</td>\n",
       "    </tr>\n",
       "    <tr>\n",
       "      <th>1684442D UN Equity</th>\n",
       "      <td>251.0</td>\n",
       "      <td>0.000474</td>\n",
       "      <td>0.025441</td>\n",
       "      <td>-0.069620</td>\n",
       "      <td>-0.014663</td>\n",
       "      <td>0.000000</td>\n",
       "      <td>0.013700</td>\n",
       "      <td>0.108772</td>\n",
       "      <td>0.755430</td>\n",
       "      <td>1.749667</td>\n",
       "    </tr>\n",
       "    <tr>\n",
       "      <th>OAT UN Equity</th>\n",
       "      <td>251.0</td>\n",
       "      <td>0.001981</td>\n",
       "      <td>0.024173</td>\n",
       "      <td>-0.078756</td>\n",
       "      <td>-0.010400</td>\n",
       "      <td>0.000890</td>\n",
       "      <td>0.011832</td>\n",
       "      <td>0.120924</td>\n",
       "      <td>0.342960</td>\n",
       "      <td>1.527977</td>\n",
       "    </tr>\n",
       "    <tr>\n",
       "      <th>41018Q US Equity</th>\n",
       "      <td>251.0</td>\n",
       "      <td>-0.000087</td>\n",
       "      <td>0.026007</td>\n",
       "      <td>-0.187064</td>\n",
       "      <td>-0.015383</td>\n",
       "      <td>-0.001195</td>\n",
       "      <td>0.016609</td>\n",
       "      <td>0.137931</td>\n",
       "      <td>0.825899</td>\n",
       "      <td>1.119298</td>\n",
       "    </tr>\n",
       "    <tr>\n",
       "      <th>KBH UN Equity</th>\n",
       "      <td>251.0</td>\n",
       "      <td>0.001957</td>\n",
       "      <td>0.029810</td>\n",
       "      <td>-0.079407</td>\n",
       "      <td>-0.016561</td>\n",
       "      <td>0.000000</td>\n",
       "      <td>0.018123</td>\n",
       "      <td>0.130435</td>\n",
       "      <td>1.011779</td>\n",
       "      <td>1.688167</td>\n",
       "    </tr>\n",
       "  </tbody>\n",
       "</table>\n",
       "</div>"
      ],
      "text/plain": [
       "                    count      mean       std       min       25%       50%  \\\n",
       "USB UN Equity       251.0  0.001007  0.032453 -0.101124 -0.019103 -0.002635   \n",
       "1684442D UN Equity  251.0  0.000474  0.025441 -0.069620 -0.014663  0.000000   \n",
       "OAT UN Equity       251.0  0.001981  0.024173 -0.078756 -0.010400  0.000890   \n",
       "41018Q US Equity    251.0 -0.000087  0.026007 -0.187064 -0.015383 -0.001195   \n",
       "KBH UN Equity       251.0  0.001957  0.029810 -0.079407 -0.016561  0.000000   \n",
       "\n",
       "                         75%       max      beta   entropy  \n",
       "USB UN Equity       0.018698  0.147799  1.073926  1.652048  \n",
       "1684442D UN Equity  0.013700  0.108772  0.755430  1.749667  \n",
       "OAT UN Equity       0.011832  0.120924  0.342960  1.527977  \n",
       "41018Q US Equity    0.016609  0.137931  0.825899  1.119298  \n",
       "KBH UN Equity       0.018123  0.130435  1.011779  1.688167  "
      ]
     },
     "execution_count": 19,
     "metadata": {},
     "output_type": "execute_result"
    }
   ],
   "source": [
    "Desc = []\n",
    "if has_Bloomberg:\n",
    "    print \"Calculate descriptives\"\n",
    "    for year in rS_stat.keys():\n",
    "        temp_data = rS_stat[year]\n",
    "        temp_data[\"betas\"] = np.NaN\n",
    "        desc = np.transpose(temp_data.describe())\n",
    "        risk = calculate_beta_entropy(rSstat[year], rSPX)\n",
    "        desc = desc.merge(risk, left_index=True, right_index=True)\n",
    "        desc.to_csv(\"Desc_\" + str.replace( year, \"-\", \"\") + \".csv\")\n",
    "        Desc.append(desc)\n",
    "        print year\n",
    "else:\n",
    "    print \"Load descriptives from csv\"\n",
    "    for year in range(start,end):\n",
    "        Desc.append(read_data(\"Desc_\" + str.replace(s_start.format(year) + \"_\" + s_end.format(year), \"-\", \"\") + \".csv\"))\n",
    "Desc[0].head(5)"
   ]
  },
  {
   "cell_type": "markdown",
   "metadata": {
    "deletable": true,
    "editable": true
   },
   "source": [
    "## Load raw BB classification data from disc"
   ]
  },
  {
   "cell_type": "code",
   "execution_count": 20,
   "metadata": {
    "collapsed": false,
    "deletable": true,
    "editable": true
   },
   "outputs": [],
   "source": [
    "file_names_cluster_data = sorted(glob.glob(os.getcwd() + '\\\\Clusters_R_' + '[0-9]'*8 + '_' + '[0-9]'*8 +'.csv'))\n",
    "cluster_data = {sf : read_data(sf) for sf in file_names_cluster_data}\n",
    "cluster_data = reshuffle_cluster_labels(cluster_data, file_names_cluster_data[0])"
   ]
  },
  {
   "cell_type": "markdown",
   "metadata": {
    "deletable": true,
    "editable": true
   },
   "source": [
    "### Compare GICS and BICS"
   ]
  },
  {
   "cell_type": "code",
   "execution_count": null,
   "metadata": {
    "collapsed": false,
    "deletable": true,
    "editable": true
   },
   "outputs": [],
   "source": [
    "for k in cluster_data.keys():\n",
    "    GBICS = cluster_data[k][['GICS_SECTOR_NAME' ,'BICS_LEVEL_1_SECTOR_NAME']].dropna().reset_index(drop=True)\n",
    "    print(k, len(GBICS.index))\n",
    "    pd.crosstab(GBICS[GBICS.columns[0]], GBICS[GBICS.columns[1]]).to_csv(\"BICS_GICS_{}.csv\".\\\n",
    "                                                format(\"_\".join(re.findall(r'[0-9]+', k)))) "
   ]
  },
  {
   "cell_type": "markdown",
   "metadata": {
    "deletable": true,
    "editable": true
   },
   "source": [
    "## Augmented CAPM"
   ]
  },
  {
   "cell_type": "markdown",
   "metadata": {
    "deletable": true,
    "editable": true
   },
   "source": [
    "### Load SPX, CRSP data (BB needed)"
   ]
  },
  {
   "cell_type": "code",
   "execution_count": null,
   "metadata": {
    "collapsed": false,
    "deletable": true,
    "editable": true
   },
   "outputs": [],
   "source": [
    "if has_Bloomberg:\n",
    "    print \"Load SPX, CRSP data\"\n",
    "    SPX_CRSP = load_history(s_start.format(start), s_end.format(end), sids = ['CRSPTM1 Index', 'SPX Index'])\n",
    "    rSPX_CRSP = (SPX_CRSP - SPX_CRSP .shift(1))/SPX_CRSP .shift(1)\n",
    "    rSPX = pd.DataFrame(rSPX_CRSP['SPX Index'])"
   ]
  },
  {
   "cell_type": "markdown",
   "metadata": {
    "deletable": true,
    "editable": true
   },
   "source": [
    "#### Calculate rolling correlation of SPX, CRSP"
   ]
  },
  {
   "cell_type": "code",
   "execution_count": null,
   "metadata": {
    "collapsed": false,
    "deletable": true,
    "editable": true
   },
   "outputs": [],
   "source": [
    "if has_Bloomberg:\n",
    "    print \"Plot rolling correlation of SPX, CRSP\"\n",
    "    fig, ax = plt.subplots(1, 1, figsize = (20, 8))\n",
    "    SPX_CRSP['SPX Index'].rolling(30).corr(SPX_CRSP['CRSPTM1 Index']).\\\n",
    "        plot(grid = False, ax = ax, title= '30-business day rolling correlation between SPX CRSP', fontsize=22, color =['black'])\n",
    "    ax.set_facecolor('white')\n",
    "    ax.title.set_size(32)\n",
    "    ax.legend(loc=\"best\", prop={'size': 0})\n",
    "    ax.xaxis.set_label_text('')\n",
    "    fig.savefig('SPX_CRSP')\n",
    "else:\n",
    "    img=mpimg.imread('SPX_CRSP.png')\n",
    "    plt.figure(figsize = (15,5))\n",
    "    plt.imshow(img)"
   ]
  },
  {
   "cell_type": "markdown",
   "metadata": {
    "deletable": true,
    "editable": true
   },
   "source": [
    "### Initialize CAPM"
   ]
  },
  {
   "cell_type": "code",
   "execution_count": null,
   "metadata": {
    "collapsed": false,
    "deletable": true,
    "editable": true
   },
   "outputs": [],
   "source": [
    "file_names_desc = glob.glob('Desc_' + '[0-9]'*8 + '_' + '[0-9]'*8 + '.csv')\n",
    "\n",
    "capm_reg = pd.DataFrame(columns=['const coeff', 'beta coeff', 'const p-vaule','beta p-value', 'Adj. R2'])\n",
    "coeff_table = pd.DataFrame()\n",
    "R2 = pd.DataFrame(columns=['year', 'Cluster', 'R2'])\n",
    "cluster_variables = ['Cluster', 'GICS_SECTOR_NAME', 'BICS_LEVEL_1_SECTOR_NAME']\n",
    "median_coeff_table = pd.DataFrame(columns=cluster_variables)\n",
    "n_sig_coeff_table = pd.DataFrame(columns=cluster_variables)"
   ]
  },
  {
   "cell_type": "markdown",
   "metadata": {
    "deletable": true,
    "editable": true
   },
   "source": [
    "### Run CAPM/ Augmented CAPM OLS regressions"
   ]
  },
  {
   "cell_type": "markdown",
   "metadata": {
    "deletable": true,
    "editable": true
   },
   "source": [
    "$$\\mathrm{E^P}\\left(\\ln \\frac{S_t}{S_{t-1}}\\right) = r_t^f+ \\beta \\cdot \\left(\\mathrm{E^P}(r_t^M )-r_t^f\\right)⋅cluster\\_variable_{t-1} $$"
   ]
  },
  {
   "cell_type": "code",
   "execution_count": null,
   "metadata": {
    "collapsed": false,
    "deletable": true,
    "editable": true
   },
   "outputs": [],
   "source": [
    "for fn in file_names_cluster_data:\n",
    "    # using the previous year clusters in the regression\n",
    "    if fn == file_names_cluster_data[-1]:\n",
    "        continue\n",
    "    year = re.findall('\\d{8}', fn)[0][:4]\n",
    "    dscF = [sf for sf in file_names_desc if str(int(year)+1) in sf][0]\n",
    "    desc = read_data(dscF)\n",
    "    desc = desc.join(cluster_data[fn])\n",
    "    X = desc['beta']\n",
    "    X = sm.add_constant(X)\n",
    "    y = desc['mean']\n",
    "    # regression: mean ~ beta\n",
    "    model = sm.OLS(y, X).fit()\n",
    "    yyyy = re.findall('\\d{4}',fn)[0]\n",
    "    print yyyy\n",
    "    capm_reg.loc[yyyy] = [model.params['const'], model.params['beta'], model.pvalues['const'],\\\n",
    "                         model.pvalues['beta'], model.rsquared_adj]\n",
    "    medians = []\n",
    "    n_sig = []\n",
    "    for gr in cluster_variables:\n",
    "        # regression: mean ~ beta * cluster\n",
    "        mod = smf.ols(formula = \"mean ~ beta:{}\".format(gr), data = desc)\n",
    "        res = mod.fit()\n",
    "        s = res.summary()\n",
    "        R2 = R2.append({\"year\" : yyyy, \"Cluster\" : gr, \"R2\" :res.rsquared_adj}, ignore_index=True)\n",
    "        temp_coeff_table = s.tables[1].as_html()\n",
    "        temp_coeff_table = pd.read_html(temp_coeff_table, header=0, index_col=0)[0]\n",
    "        temp_coeff_table.index = [yyyy + \" \" + x for x in temp_coeff_table.index]\n",
    "        if len(coeff_table.index) == 0:\n",
    "            coeff_table = temp_coeff_table\n",
    "        else:\n",
    "            coeff_table = coeff_table.append(temp_coeff_table)\n",
    "        medians.append(np.median(temp_coeff_table['P>|t|']))\n",
    "        n_sig.append(sum(temp_coeff_table['P>|t|'] <0.05))\n",
    "        # plot clusters\n",
    "        groups = desc.groupby(gr)\n",
    "        # # Plot\n",
    "        plt.figure(figsize=(16, 8))\n",
    "        fig = plt.figure(1)\n",
    "        ax = plt.subplot(1, 1, 1, facecolor='white') # nrows, ncols, index\n",
    "        ax.tick_params(labelsize = 22)\n",
    "        ax.margins(0.05)\n",
    "        colors = cm.gist_rainbow(np.linspace(0, 1, len(desc[gr].unique())))\n",
    "        for g, c in zip(groups, colors):\n",
    "            ax.scatter(g[1]['beta'], g[1]['mean'], color = c, label=g[0])\n",
    "            ax.legend()\n",
    "        fig.savefig(yyyy + gr)\n",
    "        fig.clear()\n",
    "    # add median, number of significant coefficients         \n",
    "    median_coeff_table.loc[yyyy] = medians\n",
    "    n_sig_coeff_table.loc[yyyy] = n_sig\n",
    "# prepare and save R2"
   ]
  },
  {
   "cell_type": "markdown",
   "metadata": {
    "deletable": true,
    "editable": true
   },
   "source": [
    "### Save CAPM OLS regressions"
   ]
  },
  {
   "cell_type": "code",
   "execution_count": null,
   "metadata": {
    "collapsed": false,
    "deletable": true,
    "editable": true
   },
   "outputs": [],
   "source": [
    "# make sure after initialization, regression was run only once\n",
    "r2 = R2.set_index(['year','Cluster']).unstack().reset_index()\n",
    "r2.set_index('year', inplace=True)\n",
    "r2.columns = r2.columns.droplevel(0)\n",
    "r2 = r2.join(capm_reg['Adj. R2'], how = 'outer')\n",
    "r2.rename(columns={R2.columns[-1]: 'CAPM'}, inplace = True)\n",
    "r2.to_csv(\"CAPM_R2.csv\")\n",
    "# save coefficients\n",
    "capm_reg.to_csv('CAPM_reg.csv')\n",
    "coeff_table.to_csv('CAPM_Cluster.csv')"
   ]
  },
  {
   "cell_type": "markdown",
   "metadata": {
    "deletable": true,
    "editable": true
   },
   "source": [
    "### Read augmented CAPM regression data from files"
   ]
  },
  {
   "cell_type": "code",
   "execution_count": null,
   "metadata": {
    "collapsed": false,
    "deletable": true,
    "editable": true
   },
   "outputs": [],
   "source": [
    "coeffs = read_data(os.getcwd() + '\\\\CAPM_Cluster.csv')\n",
    "coeffs['year'] = [x.split(\" \")[0] for x in coeffs.index]\n",
    "coeffs['cluster'] = [x.split(\":\")[1].split(\"[\")[0] if len(x.split(\":\")) > 1 else np.NaN for x in coeffs.index]\n",
    "# Intercepts\n",
    "coeffs = coeffs.fillna(method = 'bfill')\n",
    "# Medians\n",
    "median_coeff_table = coeffs[['P>|t|', 'year', 'cluster']].groupby(['year','cluster']).median()\n",
    "# Number of significant coefficients\n",
    "coeffs['P>|t|'] = coeffs['P>|t|'] < 0.05\n",
    "n_sig_coeff_table = coeffs[['P>|t|', 'year', 'cluster']].groupby(['year','cluster']).sum()\n",
    "\n",
    "def unstack(coeffs):\n",
    "    coeffs = coeffs.unstack()\n",
    "    coeffs.index = list(coeffs.index)\n",
    "    coeffs.columns = coeffs.columns.droplevel(0)\n",
    "    return coeffs\n",
    "    \n",
    "median_coeff_table = unstack(median_coeff_table)\n",
    "n_sig_coeff_table = unstack(n_sig_coeff_table)"
   ]
  },
  {
   "cell_type": "markdown",
   "metadata": {
    "deletable": true,
    "editable": true
   },
   "source": [
    "### Plot augmented CAPM OLS R2"
   ]
  },
  {
   "cell_type": "code",
   "execution_count": null,
   "metadata": {
    "collapsed": false,
    "deletable": true,
    "editable": true
   },
   "outputs": [],
   "source": [
    "fig, ax = plt.subplots(1, 1, figsize = (20, 8))\n",
    "r2.plot(style = '-o', grid = False, ax = ax, title= 'R2 values', fontsize=22, color =['orange', 'green', 'blue', 'black'])\n",
    "ax.set_facecolor('white')\n",
    "ax.title.set_size(32)\n",
    "ax.legend(loc=\"best\", prop={'size': 20})\n",
    "ax.xaxis.set_label_text('')\n",
    "fig.savefig('CAPM_R2')"
   ]
  },
  {
   "cell_type": "markdown",
   "metadata": {
    "deletable": true,
    "editable": true
   },
   "source": [
    "### Plot augmented CAPM OLS p-values"
   ]
  },
  {
   "cell_type": "code",
   "execution_count": null,
   "metadata": {
    "collapsed": false,
    "deletable": true,
    "editable": true
   },
   "outputs": [],
   "source": [
    "fig, axs = plt.subplots(1,2 , figsize = (20, 8))\n",
    "median_coeff_table.plot(style = '-o', grid = False, ax = axs[0],\\\n",
    "                        title= 'Median of p-values', fontsize=22, color =['orange', 'green', 'blue'])\n",
    "n_sig_coeff_table.plot(style = '-o', grid = False, ax = axs[1],\\\n",
    "                       title= 'Number of significant p-values', fontsize=22, color =['orange', 'green', 'blue'])\n",
    "[ax.set_facecolor('white') for ax in axs]\n",
    "[ax.title.set_size(32) for ax in axs]\n",
    "axs[0].legend(loc=\"best\", prop={'size': 20})\n",
    "axs[1].legend().set_visible(False)\n",
    "fig.savefig('CAPM_median_n_sig')"
   ]
  }
 ],
 "metadata": {
  "kernelspec": {
   "display_name": "Python 2",
   "language": "python",
   "name": "python2"
  },
  "language_info": {
   "codemirror_mode": {
    "name": "ipython",
    "version": 2
   },
   "file_extension": ".py",
   "mimetype": "text/x-python",
   "name": "python",
   "nbconvert_exporter": "python",
   "pygments_lexer": "ipython2",
   "version": "2.7.13"
  }
 },
 "nbformat": 4,
 "nbformat_minor": 4
}
